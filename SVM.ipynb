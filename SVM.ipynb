{
 "cells": [
  {
   "cell_type": "markdown",
   "id": "56ad5588",
   "metadata": {
    "papermill": {
     "duration": 0.01593,
     "end_time": "2023-12-30T14:27:59.420716",
     "exception": false,
     "start_time": "2023-12-30T14:27:59.404786",
     "status": "completed"
    },
    "tags": []
   },
   "source": [
    "## Support Vector Machine\n"
   ]
  },
  {
   "cell_type": "markdown",
   "id": "a281482b",
   "metadata": {
    "papermill": {
     "duration": 0.015811,
     "end_time": "2023-12-30T14:27:59.485225",
     "exception": false,
     "start_time": "2023-12-30T14:27:59.469414",
     "status": "completed"
    },
    "tags": []
   },
   "source": [
    "# P0: Intro"
   ]
  },
  {
   "cell_type": "markdown",
   "id": "e7dfa039",
   "metadata": {
    "id": "dOp04evUxM-3",
    "papermill": {
     "duration": 0.016099,
     "end_time": "2023-12-30T14:27:59.517660",
     "exception": false,
     "start_time": "2023-12-30T14:27:59.501561",
     "status": "completed"
    },
    "tags": []
   },
   "source": [
    "Sentiment Analysis is a Natural Language Processing technique that allows us to determine the sentiment or opinion of a given text. It is a very useful technique that allows us to extract insights from social media, customer feedback, product reviews, etc. This assignment focuses on building a sentiment classifier using the SVM algorithm. You are given a dataset of tweets along with their corresponding sentiments. Your task is to build a classifier that can determine the sentiment of a given tweet."
   ]
  },
  {
   "cell_type": "markdown",
   "id": "651b3071",
   "metadata": {
    "id": "HRyaluoHxkMW",
    "papermill": {
     "duration": 0.018503,
     "end_time": "2023-12-30T14:27:59.552531",
     "exception": false,
     "start_time": "2023-12-30T14:27:59.534028",
     "status": "completed"
    },
    "tags": []
   },
   "source": [
    "# P1: Data Exploration"
   ]
  },
  {
   "cell_type": "markdown",
   "id": "4ec7d632",
   "metadata": {
    "id": "WdLsc4MbzNVH",
    "papermill": {
     "duration": 0.01665,
     "end_time": "2023-12-30T14:27:59.586213",
     "exception": false,
     "start_time": "2023-12-30T14:27:59.569563",
     "status": "completed"
    },
    "tags": []
   },
   "source": [
    "The dataset provided to you includes one file: `sentiment.csv`.\n",
    "Run the below cells to download the data."
   ]
  },
  {
   "cell_type": "code",
   "execution_count": 1,
   "id": "4b613c60",
   "metadata": {
    "execution": {
     "iopub.execute_input": "2023-12-30T14:27:59.622151Z",
     "iopub.status.busy": "2023-12-30T14:27:59.621253Z",
     "iopub.status.idle": "2023-12-30T14:28:15.901661Z",
     "shell.execute_reply": "2023-12-30T14:28:15.900269Z"
    },
    "papermill": {
     "duration": 16.302355,
     "end_time": "2023-12-30T14:28:15.904953",
     "exception": false,
     "start_time": "2023-12-30T14:27:59.602598",
     "status": "completed"
    },
    "tags": []
   },
   "outputs": [
    {
     "name": "stdout",
     "output_type": "stream",
     "text": [
      "Collecting gdown\r\n",
      "  Downloading gdown-4.7.1-py3-none-any.whl (15 kB)\r\n",
      "Requirement already satisfied: filelock in /opt/conda/lib/python3.10/site-packages (from gdown) (3.12.2)\r\n",
      "Requirement already satisfied: requests[socks] in /opt/conda/lib/python3.10/site-packages (from gdown) (2.31.0)\r\n",
      "Requirement already satisfied: six in /opt/conda/lib/python3.10/site-packages (from gdown) (1.16.0)\r\n",
      "Requirement already satisfied: tqdm in /opt/conda/lib/python3.10/site-packages (from gdown) (4.66.1)\r\n",
      "Requirement already satisfied: beautifulsoup4 in /opt/conda/lib/python3.10/site-packages (from gdown) (4.12.2)\r\n",
      "Requirement already satisfied: soupsieve>1.2 in /opt/conda/lib/python3.10/site-packages (from beautifulsoup4->gdown) (2.3.2.post1)\r\n",
      "Requirement already satisfied: charset-normalizer<4,>=2 in /opt/conda/lib/python3.10/site-packages (from requests[socks]->gdown) (3.2.0)\r\n",
      "Requirement already satisfied: idna<4,>=2.5 in /opt/conda/lib/python3.10/site-packages (from requests[socks]->gdown) (3.4)\r\n",
      "Requirement already satisfied: urllib3<3,>=1.21.1 in /opt/conda/lib/python3.10/site-packages (from requests[socks]->gdown) (1.26.15)\r\n",
      "Requirement already satisfied: certifi>=2017.4.17 in /opt/conda/lib/python3.10/site-packages (from requests[socks]->gdown) (2023.7.22)\r\n",
      "Requirement already satisfied: PySocks!=1.5.7,>=1.5.6 in /opt/conda/lib/python3.10/site-packages (from requests[socks]->gdown) (1.7.1)\r\n",
      "Installing collected packages: gdown\r\n",
      "Successfully installed gdown-4.7.1\r\n"
     ]
    }
   ],
   "source": [
    "!pip install gdown"
   ]
  },
  {
   "cell_type": "code",
   "execution_count": 2,
   "id": "cc66eb03",
   "metadata": {
    "execution": {
     "iopub.execute_input": "2023-12-30T14:28:15.942712Z",
     "iopub.status.busy": "2023-12-30T14:28:15.941119Z",
     "iopub.status.idle": "2023-12-30T14:28:23.584086Z",
     "shell.execute_reply": "2023-12-30T14:28:23.582934Z"
    },
    "id": "foL_di-mb_GF",
    "outputId": "19aff1fe-c8d8-4a57-86d5-9667cba892dc",
    "papermill": {
     "duration": 7.66492,
     "end_time": "2023-12-30T14:28:23.587029",
     "exception": false,
     "start_time": "2023-12-30T14:28:15.922109",
     "status": "completed"
    },
    "tags": []
   },
   "outputs": [
    {
     "data": {
      "text/html": [
       "<div>\n",
       "<style scoped>\n",
       "    .dataframe tbody tr th:only-of-type {\n",
       "        vertical-align: middle;\n",
       "    }\n",
       "\n",
       "    .dataframe tbody tr th {\n",
       "        vertical-align: top;\n",
       "    }\n",
       "\n",
       "    .dataframe thead th {\n",
       "        text-align: right;\n",
       "    }\n",
       "</style>\n",
       "<table border=\"1\" class=\"dataframe\">\n",
       "  <thead>\n",
       "    <tr style=\"text-align: right;\">\n",
       "      <th></th>\n",
       "      <th>UserName</th>\n",
       "      <th>ScreenName</th>\n",
       "      <th>Location</th>\n",
       "      <th>TweetAt</th>\n",
       "      <th>OriginalTweet</th>\n",
       "      <th>Sentiment</th>\n",
       "    </tr>\n",
       "  </thead>\n",
       "  <tbody>\n",
       "    <tr>\n",
       "      <th>0</th>\n",
       "      <td>3799</td>\n",
       "      <td>48751</td>\n",
       "      <td>London</td>\n",
       "      <td>16-03-2020</td>\n",
       "      <td>@MeNyrbie @Phil_Gahan @Chrisitv https://t.co/i...</td>\n",
       "      <td>Neutral</td>\n",
       "    </tr>\n",
       "    <tr>\n",
       "      <th>1</th>\n",
       "      <td>3800</td>\n",
       "      <td>48752</td>\n",
       "      <td>UK</td>\n",
       "      <td>16-03-2020</td>\n",
       "      <td>advice Talk to your neighbours family to excha...</td>\n",
       "      <td>Positive</td>\n",
       "    </tr>\n",
       "    <tr>\n",
       "      <th>2</th>\n",
       "      <td>3801</td>\n",
       "      <td>48753</td>\n",
       "      <td>Vagabonds</td>\n",
       "      <td>16-03-2020</td>\n",
       "      <td>Coronavirus Australia: Woolworths to give elde...</td>\n",
       "      <td>Positive</td>\n",
       "    </tr>\n",
       "    <tr>\n",
       "      <th>3</th>\n",
       "      <td>3802</td>\n",
       "      <td>48754</td>\n",
       "      <td>NaN</td>\n",
       "      <td>16-03-2020</td>\n",
       "      <td>My food stock is not the only one which is emp...</td>\n",
       "      <td>Positive</td>\n",
       "    </tr>\n",
       "    <tr>\n",
       "      <th>4</th>\n",
       "      <td>3803</td>\n",
       "      <td>48755</td>\n",
       "      <td>NaN</td>\n",
       "      <td>16-03-2020</td>\n",
       "      <td>Me, ready to go at supermarket during the #COV...</td>\n",
       "      <td>Extremely Negative</td>\n",
       "    </tr>\n",
       "  </tbody>\n",
       "</table>\n",
       "</div>"
      ],
      "text/plain": [
       "   UserName  ScreenName   Location     TweetAt  \\\n",
       "0      3799       48751     London  16-03-2020   \n",
       "1      3800       48752         UK  16-03-2020   \n",
       "2      3801       48753  Vagabonds  16-03-2020   \n",
       "3      3802       48754        NaN  16-03-2020   \n",
       "4      3803       48755        NaN  16-03-2020   \n",
       "\n",
       "                                       OriginalTweet           Sentiment  \n",
       "0  @MeNyrbie @Phil_Gahan @Chrisitv https://t.co/i...             Neutral  \n",
       "1  advice Talk to your neighbours family to excha...            Positive  \n",
       "2  Coronavirus Australia: Woolworths to give elde...            Positive  \n",
       "3  My food stock is not the only one which is emp...            Positive  \n",
       "4  Me, ready to go at supermarket during the #COV...  Extremely Negative  "
      ]
     },
     "execution_count": 2,
     "metadata": {},
     "output_type": "execute_result"
    }
   ],
   "source": [
    "import gdown\n",
    "import pandas as pd\n",
    "\n",
    "url = 'https://drive.google.com/uc?id=1XHeTYh-jGBHq1lpbOVq1HX-N4EsUIQgA'\n",
    "path = 'sentiment.csv'\n",
    "gdown.download(url, path, quiet=True)\n",
    "data = pd.read_csv(path, encoding = \"ISO-8859-1\")\n",
    "data.head()"
   ]
  },
  {
   "cell_type": "markdown",
   "id": "21d645d0",
   "metadata": {
    "id": "p0Xy0Z9V2QXZ",
    "papermill": {
     "duration": 0.016569,
     "end_time": "2023-12-30T14:28:23.620543",
     "exception": false,
     "start_time": "2023-12-30T14:28:23.603974",
     "status": "completed"
    },
    "tags": []
   },
   "source": [
    "## The Distribution of Labels"
   ]
  },
  {
   "cell_type": "markdown",
   "id": "402f9638",
   "metadata": {
    "id": "3_Y4iXXW2Ws6",
    "papermill": {
     "duration": 0.01844,
     "end_time": "2023-12-30T14:28:23.655881",
     "exception": false,
     "start_time": "2023-12-30T14:28:23.637441",
     "status": "completed"
    },
    "tags": []
   },
   "source": [
    "Extract the labels of the Sentiment column and plot the distribution of samples according to it. "
   ]
  },
  {
   "cell_type": "code",
   "execution_count": 3,
   "id": "6ca21b26",
   "metadata": {
    "execution": {
     "iopub.execute_input": "2023-12-30T14:28:23.693628Z",
     "iopub.status.busy": "2023-12-30T14:28:23.692133Z",
     "iopub.status.idle": "2023-12-30T14:28:24.071899Z",
     "shell.execute_reply": "2023-12-30T14:28:24.070727Z"
    },
    "id": "qDKUQa162UnI",
    "outputId": "21cf64f6-e1b5-4c74-d315-c3326fe53d9f",
    "papermill": {
     "duration": 0.401736,
     "end_time": "2023-12-30T14:28:24.075073",
     "exception": false,
     "start_time": "2023-12-30T14:28:23.673337",
     "status": "completed"
    },
    "tags": []
   },
   "outputs": [
    {
     "data": {
      "image/png": "[encoded data removed]",
      "text/plain": [
       "<Figure size 800x800 with 1 Axes>"
      ]
     },
     "metadata": {},
     "output_type": "display_data"
    }
   ],
   "source": [
    "import matplotlib.pyplot as plt\n",
    "sentimentLabels = data['Sentiment'].value_counts()\n",
    "\n",
    "plt.figure(figsize=(8, 8))\n",
    "sentimentLabels.plot(kind='bar')\n",
    "\n",
    "plt.title(\"Distribution of Labels\")\n",
    "plt.xlabel(\"SentimentLabels\")\n",
    "plt.ylabel(\"N\")\n",
    "plt.show()"
   ]
  },
  {
   "cell_type": "markdown",
   "id": "e8b9ecf8",
   "metadata": {
    "id": "rIwsdzMO2ZiJ",
    "papermill": {
     "duration": 0.017685,
     "end_time": "2023-12-30T14:28:24.206304",
     "exception": false,
     "start_time": "2023-12-30T14:28:24.188619",
     "status": "completed"
    },
    "tags": []
   },
   "source": [
    "## Texts Distribution"
   ]
  },
  {
   "cell_type": "markdown",
   "id": "f42573ff",
   "metadata": {
    "id": "FDRBXOQ22ea3",
    "papermill": {
     "duration": 0.01739,
     "end_time": "2023-12-30T14:28:24.241425",
     "exception": false,
     "start_time": "2023-12-30T14:28:24.224035",
     "status": "completed"
    },
    "tags": []
   },
   "source": [
    "Plot the distribution of tweets according to their lengths. "
   ]
  },
  {
   "cell_type": "code",
   "execution_count": 4,
   "id": "49eb8365",
   "metadata": {
    "execution": {
     "iopub.execute_input": "2023-12-30T14:28:24.279693Z",
     "iopub.status.busy": "2023-12-30T14:28:24.278134Z",
     "iopub.status.idle": "2023-12-30T14:28:24.794588Z",
     "shell.execute_reply": "2023-12-30T14:28:24.793108Z"
    },
    "id": "5wBLgSjFvpTJ",
    "outputId": "459612c2-7022-4536-823f-66365e7db230",
    "papermill": {
     "duration": 0.538962,
     "end_time": "2023-12-30T14:28:24.797942",
     "exception": false,
     "start_time": "2023-12-30T14:28:24.258980",
     "status": "completed"
    },
    "tags": []
   },
   "outputs": [
    {
     "data": {
      "image/png": "[encoded data removed]",
      "text/plain": [
       "<Figure size 800x800 with 1 Axes>"
      ]
     },
     "metadata": {},
     "output_type": "display_data"
    }
   ],
   "source": [
    "tweets = data['OriginalTweet']\n",
    "\n",
    "plt.figure(figsize=(8, 8))\n",
    "plt.hist(tweets.apply(len),bins=100)\n",
    "\n",
    "plt.title(\"Texts Distribution\")\n",
    "plt.xlabel(\"TweetLengths\")\n",
    "plt.ylabel(\"N\")\n",
    "plt.show()"
   ]
  },
  {
   "cell_type": "markdown",
   "id": "e6cc2a72",
   "metadata": {
    "id": "2NhIKw7k25yJ",
    "papermill": {
     "duration": 0.017915,
     "end_time": "2023-12-30T14:28:24.834274",
     "exception": false,
     "start_time": "2023-12-30T14:28:24.816359",
     "status": "completed"
    },
    "tags": []
   },
   "source": [
    "## Outliers"
   ]
  },
  {
   "cell_type": "markdown",
   "id": "e80b7e4d",
   "metadata": {
    "id": "MmLuYceX28_J",
    "papermill": {
     "duration": 0.017908,
     "end_time": "2023-12-30T14:28:24.870396",
     "exception": false,
     "start_time": "2023-12-30T14:28:24.852488",
     "status": "completed"
    },
    "tags": []
   },
   "source": [
    "According to the obtained distributions, It is necessary to remove outliers."
   ]
  },
  {
   "cell_type": "code",
   "execution_count": 5,
   "id": "e682d482",
   "metadata": {
    "execution": {
     "iopub.execute_input": "2023-12-30T14:28:24.945160Z",
     "iopub.status.busy": "2023-12-30T14:28:24.944722Z",
     "iopub.status.idle": "2023-12-30T14:28:25.001363Z",
     "shell.execute_reply": "2023-12-30T14:28:24.999599Z"
    },
    "id": "xWOCbW0w276g",
    "papermill": {
     "duration": 0.079888,
     "end_time": "2023-12-30T14:28:25.004721",
     "exception": false,
     "start_time": "2023-12-30T14:28:24.924833",
     "status": "completed"
    },
    "tags": []
   },
   "outputs": [
    {
     "name": "stdout",
     "output_type": "stream",
     "text": [
      "number of removed samples :  0\n"
     ]
    },
    {
     "data": {
      "text/html": [
       "<div>\n",
       "<style scoped>\n",
       "    .dataframe tbody tr th:only-of-type {\n",
       "        vertical-align: middle;\n",
       "    }\n",
       "\n",
       "    .dataframe tbody tr th {\n",
       "        vertical-align: top;\n",
       "    }\n",
       "\n",
       "    .dataframe thead th {\n",
       "        text-align: right;\n",
       "    }\n",
       "</style>\n",
       "<table border=\"1\" class=\"dataframe\">\n",
       "  <thead>\n",
       "    <tr style=\"text-align: right;\">\n",
       "      <th></th>\n",
       "      <th>UserName</th>\n",
       "      <th>ScreenName</th>\n",
       "      <th>Location</th>\n",
       "      <th>TweetAt</th>\n",
       "      <th>OriginalTweet</th>\n",
       "      <th>Sentiment</th>\n",
       "      <th>tweet_length</th>\n",
       "    </tr>\n",
       "  </thead>\n",
       "  <tbody>\n",
       "    <tr>\n",
       "      <th>0</th>\n",
       "      <td>3799</td>\n",
       "      <td>48751</td>\n",
       "      <td>London</td>\n",
       "      <td>16-03-2020</td>\n",
       "      <td>@MeNyrbie @Phil_Gahan @Chrisitv https://t.co/i...</td>\n",
       "      <td>Neutral</td>\n",
       "      <td>111</td>\n",
       "    </tr>\n",
       "    <tr>\n",
       "      <th>1</th>\n",
       "      <td>3800</td>\n",
       "      <td>48752</td>\n",
       "      <td>UK</td>\n",
       "      <td>16-03-2020</td>\n",
       "      <td>advice Talk to your neighbours family to excha...</td>\n",
       "      <td>Positive</td>\n",
       "      <td>237</td>\n",
       "    </tr>\n",
       "    <tr>\n",
       "      <th>2</th>\n",
       "      <td>3801</td>\n",
       "      <td>48753</td>\n",
       "      <td>Vagabonds</td>\n",
       "      <td>16-03-2020</td>\n",
       "      <td>Coronavirus Australia: Woolworths to give elde...</td>\n",
       "      <td>Positive</td>\n",
       "      <td>131</td>\n",
       "    </tr>\n",
       "    <tr>\n",
       "      <th>3</th>\n",
       "      <td>3802</td>\n",
       "      <td>48754</td>\n",
       "      <td>NaN</td>\n",
       "      <td>16-03-2020</td>\n",
       "      <td>My food stock is not the only one which is emp...</td>\n",
       "      <td>Positive</td>\n",
       "      <td>306</td>\n",
       "    </tr>\n",
       "    <tr>\n",
       "      <th>4</th>\n",
       "      <td>3803</td>\n",
       "      <td>48755</td>\n",
       "      <td>NaN</td>\n",
       "      <td>16-03-2020</td>\n",
       "      <td>Me, ready to go at supermarket during the #COV...</td>\n",
       "      <td>Extremely Negative</td>\n",
       "      <td>310</td>\n",
       "    </tr>\n",
       "  </tbody>\n",
       "</table>\n",
       "</div>"
      ],
      "text/plain": [
       "   UserName  ScreenName   Location     TweetAt  \\\n",
       "0      3799       48751     London  16-03-2020   \n",
       "1      3800       48752         UK  16-03-2020   \n",
       "2      3801       48753  Vagabonds  16-03-2020   \n",
       "3      3802       48754        NaN  16-03-2020   \n",
       "4      3803       48755        NaN  16-03-2020   \n",
       "\n",
       "                                       OriginalTweet           Sentiment  \\\n",
       "0  @MeNyrbie @Phil_Gahan @Chrisitv https://t.co/i...             Neutral   \n",
       "1  advice Talk to your neighbours family to excha...            Positive   \n",
       "2  Coronavirus Australia: Woolworths to give elde...            Positive   \n",
       "3  My food stock is not the only one which is emp...            Positive   \n",
       "4  Me, ready to go at supermarket during the #COV...  Extremely Negative   \n",
       "\n",
       "   tweet_length  \n",
       "0           111  \n",
       "1           237  \n",
       "2           131  \n",
       "3           306  \n",
       "4           310  "
      ]
     },
     "execution_count": 5,
     "metadata": {},
     "output_type": "execute_result"
    }
   ],
   "source": [
    "data['tweet_length'] = tweets.apply(len)\n",
    "p1 = data['tweet_length'].quantile(0.20)\n",
    "p2 = data['tweet_length'].quantile(0.80)\n",
    "dif = p2 - p1\n",
    "\n",
    "proc_data = data[~((data['tweet_length'] < (p1 - 1.5*dif)) | (data['tweet_length'] > (p2 + 1.5*dif)))]\n",
    "\n",
    "print(\"number of removed samples : \",len(data) - len(proc_data))\n",
    "\n",
    "proc_data.head()"
   ]
  },
  {
   "cell_type": "markdown",
   "id": "30e7a948",
   "metadata": {
    "id": "ZX8fGZJk3_TB",
    "papermill": {
     "duration": 0.019514,
     "end_time": "2023-12-30T14:28:25.043722",
     "exception": false,
     "start_time": "2023-12-30T14:28:25.024208",
     "status": "completed"
    },
    "tags": []
   },
   "source": [
    "## Missing Values"
   ]
  },
  {
   "cell_type": "markdown",
   "id": "f511c1b8",
   "metadata": {
    "id": "Ln45z_Np4BsP",
    "papermill": {
     "duration": 0.018636,
     "end_time": "2023-12-30T14:28:25.081291",
     "exception": false,
     "start_time": "2023-12-30T14:28:25.062655",
     "status": "completed"
    },
    "tags": []
   },
   "source": [
    "What percentage of dataset rows should be deleted due to missing values? Delete these row in the dataset cleaning section. "
   ]
  },
  {
   "cell_type": "code",
   "execution_count": 6,
   "id": "6699c34e",
   "metadata": {
    "execution": {
     "iopub.execute_input": "2023-12-30T14:28:25.121525Z",
     "iopub.status.busy": "2023-12-30T14:28:25.121073Z",
     "iopub.status.idle": "2023-12-30T14:28:25.167124Z",
     "shell.execute_reply": "2023-12-30T14:28:25.165668Z"
    },
    "id": "HqB_k0j-hgyA",
    "outputId": "2d8962fa-1c14-47ed-d4d7-ba0e08f05b2d",
    "papermill": {
     "duration": 0.069997,
     "end_time": "2023-12-30T14:28:25.170300",
     "exception": false,
     "start_time": "2023-12-30T14:28:25.100303",
     "status": "completed"
    },
    "tags": []
   },
   "outputs": [
    {
     "name": "stdout",
     "output_type": "stream",
     "text": [
      "0.00% of data due UserName should be deleted\n",
      "0.00% of data due ScreenName should be deleted\n",
      "20.87% of data due Location should be deleted\n",
      "0.00% of data due TweetAt should be deleted\n",
      "0.00% of data due OriginalTweet should be deleted\n",
      "0.00% of data due Sentiment should be deleted\n",
      "0.00% of data due tweet_length should be deleted\n"
     ]
    }
   ],
   "source": [
    "missing_percentage = (proc_data.isnull().sum() / len(proc_data)) * 100\n",
    "for col, percentage in missing_percentage.items():\n",
    "    print(f\"{percentage:.2f}% of data due {col} should be deleted\")\n",
    "\n",
    "cleaned_data = proc_data.dropna(subset=['OriginalTweet'], axis=0)\n"
   ]
  },
  {
   "cell_type": "markdown",
   "id": "0541f54b",
   "metadata": {
    "id": "idrPs3PP7hHo",
    "papermill": {
     "duration": 0.018931,
     "end_time": "2023-12-30T14:28:25.208127",
     "exception": false,
     "start_time": "2023-12-30T14:28:25.189196",
     "status": "completed"
    },
    "tags": []
   },
   "source": [
    "## Most Frequent Words"
   ]
  },
  {
   "cell_type": "markdown",
   "id": "511c2ce6",
   "metadata": {
    "id": "3FZnO_CO7jVi",
    "papermill": {
     "duration": 0.018457,
     "end_time": "2023-12-30T14:28:25.245422",
     "exception": false,
     "start_time": "2023-12-30T14:28:25.226965",
     "status": "completed"
    },
    "tags": []
   },
   "source": [
    "Use the `nltk` library and plot the 30 most frequent words in order of occurrence. Then do this for each set of positive, negative and neutral tweets separately. "
   ]
  },
  {
   "cell_type": "code",
   "execution_count": 7,
   "id": "76e9affb",
   "metadata": {
    "execution": {
     "iopub.execute_input": "2023-12-30T14:28:25.285164Z",
     "iopub.status.busy": "2023-12-30T14:28:25.284669Z",
     "iopub.status.idle": "2023-12-30T14:28:27.687686Z",
     "shell.execute_reply": "2023-12-30T14:28:27.686111Z"
    },
    "papermill": {
     "duration": 2.426423,
     "end_time": "2023-12-30T14:28:27.690711",
     "exception": false,
     "start_time": "2023-12-30T14:28:25.264288",
     "status": "completed"
    },
    "tags": []
   },
   "outputs": [
    {
     "name": "stdout",
     "output_type": "stream",
     "text": [
      "[nltk_data] Downloading package punkt to /usr/share/nltk_data...\n",
      "[nltk_data]   Package punkt is already up-to-date!\n",
      "[nltk_data] Downloading package stopwords to /usr/share/nltk_data...\n",
      "[nltk_data]   Package stopwords is already up-to-date!\n"
     ]
    },
    {
     "data": {
      "text/plain": [
       "True"
      ]
     },
     "execution_count": 7,
     "metadata": {},
     "output_type": "execute_result"
    }
   ],
   "source": [
    "import nltk\n",
    "nltk.download('punkt')\n",
    "nltk.download('stopwords')"
   ]
  },
  {
   "cell_type": "code",
   "execution_count": 8,
   "id": "fda182c2",
   "metadata": {
    "execution": {
     "iopub.execute_input": "2023-12-30T14:28:27.732041Z",
     "iopub.status.busy": "2023-12-30T14:28:27.731577Z",
     "iopub.status.idle": "2023-12-30T14:28:40.936263Z",
     "shell.execute_reply": "2023-12-30T14:28:40.934617Z"
    },
    "id": "rg0nGQ4q7jdS",
    "outputId": "85c50d14-8944-46e0-a06e-c7b2bf369341",
    "papermill": {
     "duration": 13.229153,
     "end_time": "2023-12-30T14:28:40.939442",
     "exception": false,
     "start_time": "2023-12-30T14:28:27.710289",
     "status": "completed"
    },
    "tags": []
   },
   "outputs": [
    {
     "name": "stdout",
     "output_type": "stream",
     "text": [
      "Positive Tweets\n"
     ]
    },
    {
     "data": {
      "image/png": "[encoded data removed]",
      "text/plain": [
       "<Figure size 800x400 with 1 Axes>"
      ]
     },
     "metadata": {},
     "output_type": "display_data"
    },
    {
     "name": "stdout",
     "output_type": "stream",
     "text": [
      "---------------------\n",
      "Negative Tweets\n"
     ]
    },
    {
     "data": {
      "image/png": "[encoded data removed]",
      "text/plain": [
       "<Figure size 800x400 with 1 Axes>"
      ]
     },
     "metadata": {},
     "output_type": "display_data"
    },
    {
     "name": "stdout",
     "output_type": "stream",
     "text": [
      "---------------------\n",
      "Neutral Tweets\n"
     ]
    },
    {
     "data": {
      "image/png": "[encoded data removed]",
      "text/plain": [
       "<Figure size 800x400 with 1 Axes>"
      ]
     },
     "metadata": {},
     "output_type": "display_data"
    }
   ],
   "source": [
    "import re\n",
    "from nltk.tokenize import word_tokenize\n",
    "from nltk.corpus import stopwords\n",
    "from nltk.probability import FreqDist\n",
    "\n",
    "positive_tweets = cleaned_data[cleaned_data['Sentiment'] == 'Positive']['OriginalTweet']\n",
    "negative_tweets = cleaned_data[cleaned_data['Sentiment'] == 'Negative']['OriginalTweet']\n",
    "neutral_tweets = cleaned_data[cleaned_data['Sentiment'] == 'Neutral']['OriginalTweet']\n",
    "\n",
    "\n",
    "def plot_frequent_words(tweets):\n",
    "    if isinstance(tweets, pd.Series):\n",
    "        tweets = \" \".join(tweets)\n",
    "\n",
    "    tweets = re.sub(r'http\\S+', '', tweets) \n",
    "    tweets = re.sub(r'@\\S+|#\\S+', '', tweets)\n",
    "    words = word_tokenize(tweets.lower())\n",
    "    stop_words = set(stopwords.words('english'))\n",
    "    filtered_words = [word for word in words if word.isalpha() and word not in stop_words]    \n",
    "    freq_dist = FreqDist(filtered_words)\n",
    "    plt.figure(figsize=(8, 4))\n",
    "    freq_dist.plot(30, cumulative=False)\n",
    "    plt.show()\n",
    "\n",
    "print('Positive Tweets')\n",
    "plot_frequent_words(positive_tweets)\n",
    "print('---------------------')\n",
    "print('Negative Tweets')\n",
    "plot_frequent_words(negative_tweets)\n",
    "print('---------------------')\n",
    "print('Neutral Tweets')\n",
    "plot_frequent_words(neutral_tweets)"
   ]
  },
  {
   "cell_type": "markdown",
   "id": "db4dcc1b",
   "metadata": {
    "id": "DWG6Q1Fg3Ney",
    "papermill": {
     "duration": 0.021451,
     "end_time": "2023-12-30T14:28:40.982890",
     "exception": false,
     "start_time": "2023-12-30T14:28:40.961439",
     "status": "completed"
    },
    "tags": []
   },
   "source": [
    "# P2: Preprocessing"
   ]
  },
  {
   "cell_type": "markdown",
   "id": "52b97e5e",
   "metadata": {
    "id": "w-HtiXsX3Qmk",
    "papermill": {
     "duration": 0.021524,
     "end_time": "2023-12-30T14:28:41.026475",
     "exception": false,
     "start_time": "2023-12-30T14:28:41.004951",
     "status": "completed"
    },
    "tags": []
   },
   "source": [
    "## Dataset Cleaning"
   ]
  },
  {
   "cell_type": "markdown",
   "id": "104ebd79",
   "metadata": {
    "id": "WG35YCz95A1V",
    "papermill": {
     "duration": 0.021423,
     "end_time": "2023-12-30T14:28:41.069719",
     "exception": false,
     "start_time": "2023-12-30T14:28:41.048296",
     "status": "completed"
    },
    "tags": []
   },
   "source": [
    "Remove unrelevant columns and do other necessary cleanings."
   ]
  },
  {
   "cell_type": "code",
   "execution_count": 9,
   "id": "3a790bcb",
   "metadata": {
    "execution": {
     "iopub.execute_input": "2023-12-30T14:28:41.115900Z",
     "iopub.status.busy": "2023-12-30T14:28:41.115227Z",
     "iopub.status.idle": "2023-12-30T14:28:41.130727Z",
     "shell.execute_reply": "2023-12-30T14:28:41.129551Z"
    },
    "id": "Ry6otR-73jWC",
    "outputId": "aa543f65-3a4a-4498-cf9b-321b7004813b",
    "papermill": {
     "duration": 0.04235,
     "end_time": "2023-12-30T14:28:41.133789",
     "exception": false,
     "start_time": "2023-12-30T14:28:41.091439",
     "status": "completed"
    },
    "tags": []
   },
   "outputs": [
    {
     "data": {
      "text/html": [
       "<div>\n",
       "<style scoped>\n",
       "    .dataframe tbody tr th:only-of-type {\n",
       "        vertical-align: middle;\n",
       "    }\n",
       "\n",
       "    .dataframe tbody tr th {\n",
       "        vertical-align: top;\n",
       "    }\n",
       "\n",
       "    .dataframe thead th {\n",
       "        text-align: right;\n",
       "    }\n",
       "</style>\n",
       "<table border=\"1\" class=\"dataframe\">\n",
       "  <thead>\n",
       "    <tr style=\"text-align: right;\">\n",
       "      <th></th>\n",
       "      <th>OriginalTweet</th>\n",
       "      <th>Sentiment</th>\n",
       "    </tr>\n",
       "  </thead>\n",
       "  <tbody>\n",
       "    <tr>\n",
       "      <th>0</th>\n",
       "      <td>@MeNyrbie @Phil_Gahan @Chrisitv https://t.co/i...</td>\n",
       "      <td>Neutral</td>\n",
       "    </tr>\n",
       "    <tr>\n",
       "      <th>1</th>\n",
       "      <td>advice Talk to your neighbours family to excha...</td>\n",
       "      <td>Positive</td>\n",
       "    </tr>\n",
       "    <tr>\n",
       "      <th>2</th>\n",
       "      <td>Coronavirus Australia: Woolworths to give elde...</td>\n",
       "      <td>Positive</td>\n",
       "    </tr>\n",
       "    <tr>\n",
       "      <th>3</th>\n",
       "      <td>My food stock is not the only one which is emp...</td>\n",
       "      <td>Positive</td>\n",
       "    </tr>\n",
       "    <tr>\n",
       "      <th>4</th>\n",
       "      <td>Me, ready to go at supermarket during the #COV...</td>\n",
       "      <td>Extremely Negative</td>\n",
       "    </tr>\n",
       "  </tbody>\n",
       "</table>\n",
       "</div>"
      ],
      "text/plain": [
       "                                       OriginalTweet           Sentiment\n",
       "0  @MeNyrbie @Phil_Gahan @Chrisitv https://t.co/i...             Neutral\n",
       "1  advice Talk to your neighbours family to excha...            Positive\n",
       "2  Coronavirus Australia: Woolworths to give elde...            Positive\n",
       "3  My food stock is not the only one which is emp...            Positive\n",
       "4  Me, ready to go at supermarket during the #COV...  Extremely Negative"
      ]
     },
     "execution_count": 9,
     "metadata": {},
     "output_type": "execute_result"
    }
   ],
   "source": [
    "cleaned_data = cleaned_data[['OriginalTweet', 'Sentiment']]\n",
    "cleaned_data.head()"
   ]
  },
  {
   "cell_type": "markdown",
   "id": "73639066",
   "metadata": {
    "id": "J3BqsOWp5MBo",
    "papermill": {
     "duration": 0.022348,
     "end_time": "2023-12-30T14:28:41.178872",
     "exception": false,
     "start_time": "2023-12-30T14:28:41.156524",
     "status": "completed"
    },
    "tags": []
   },
   "source": [
    "## Labeling"
   ]
  },
  {
   "cell_type": "markdown",
   "id": "18c8a6a0",
   "metadata": {
    "id": "BGXZTFdT5Y3z",
    "papermill": {
     "duration": 0.023125,
     "end_time": "2023-12-30T14:28:41.225468",
     "exception": false,
     "start_time": "2023-12-30T14:28:41.202343",
     "status": "completed"
    },
    "tags": []
   },
   "source": [
    "Based on the `Sentiment` column, generate 3 labels by considering the extremely positive tweets as positive and the extremely negative ones as negatives. "
   ]
  },
  {
   "cell_type": "code",
   "execution_count": 10,
   "id": "f85fc952",
   "metadata": {
    "execution": {
     "iopub.execute_input": "2023-12-30T14:28:41.273271Z",
     "iopub.status.busy": "2023-12-30T14:28:41.272789Z",
     "iopub.status.idle": "2023-12-30T14:28:41.304270Z",
     "shell.execute_reply": "2023-12-30T14:28:41.303227Z"
    },
    "id": "KdT11rzQ_uV1",
    "outputId": "ca055cd1-c0e1-476b-bb96-c9fea5e15014",
    "papermill": {
     "duration": 0.058339,
     "end_time": "2023-12-30T14:28:41.306622",
     "exception": false,
     "start_time": "2023-12-30T14:28:41.248283",
     "status": "completed"
    },
    "tags": []
   },
   "outputs": [
    {
     "data": {
      "text/html": [
       "<div>\n",
       "<style scoped>\n",
       "    .dataframe tbody tr th:only-of-type {\n",
       "        vertical-align: middle;\n",
       "    }\n",
       "\n",
       "    .dataframe tbody tr th {\n",
       "        vertical-align: top;\n",
       "    }\n",
       "\n",
       "    .dataframe thead th {\n",
       "        text-align: right;\n",
       "    }\n",
       "</style>\n",
       "<table border=\"1\" class=\"dataframe\">\n",
       "  <thead>\n",
       "    <tr style=\"text-align: right;\">\n",
       "      <th></th>\n",
       "      <th>OriginalTweet</th>\n",
       "      <th>Sentiment</th>\n",
       "    </tr>\n",
       "  </thead>\n",
       "  <tbody>\n",
       "    <tr>\n",
       "      <th>0</th>\n",
       "      <td>@MeNyrbie @Phil_Gahan @Chrisitv https://t.co/i...</td>\n",
       "      <td>Neutral</td>\n",
       "    </tr>\n",
       "    <tr>\n",
       "      <th>1</th>\n",
       "      <td>advice Talk to your neighbours family to excha...</td>\n",
       "      <td>Positive</td>\n",
       "    </tr>\n",
       "    <tr>\n",
       "      <th>2</th>\n",
       "      <td>Coronavirus Australia: Woolworths to give elde...</td>\n",
       "      <td>Positive</td>\n",
       "    </tr>\n",
       "    <tr>\n",
       "      <th>3</th>\n",
       "      <td>My food stock is not the only one which is emp...</td>\n",
       "      <td>Positive</td>\n",
       "    </tr>\n",
       "    <tr>\n",
       "      <th>4</th>\n",
       "      <td>Me, ready to go at supermarket during the #COV...</td>\n",
       "      <td>Negative</td>\n",
       "    </tr>\n",
       "  </tbody>\n",
       "</table>\n",
       "</div>"
      ],
      "text/plain": [
       "                                       OriginalTweet Sentiment\n",
       "0  @MeNyrbie @Phil_Gahan @Chrisitv https://t.co/i...   Neutral\n",
       "1  advice Talk to your neighbours family to excha...  Positive\n",
       "2  Coronavirus Australia: Woolworths to give elde...  Positive\n",
       "3  My food stock is not the only one which is emp...  Positive\n",
       "4  Me, ready to go at supermarket during the #COV...  Negative"
      ]
     },
     "execution_count": 10,
     "metadata": {},
     "output_type": "execute_result"
    }
   ],
   "source": [
    "def change_sentiments(sentiment):\n",
    "    return \"Positive\" if sentiment in [\"Positive\", \"Extremely Positive\"] else \"Negative\" if sentiment in [\"Negative\", \"Extremely Negative\"] else \"Neutral\"\n",
    "\n",
    "cleaned_data = cleaned_data.copy()\n",
    "cleaned_data['Sentiment'] = cleaned_data['Sentiment'].apply(change_sentiments)\n",
    "cleaned_data.head()\n"
   ]
  },
  {
   "cell_type": "markdown",
   "id": "8ca21414",
   "metadata": {
    "id": "KXI1zi1_62vs",
    "papermill": {
     "duration": 0.02227,
     "end_time": "2023-12-30T14:28:41.351195",
     "exception": false,
     "start_time": "2023-12-30T14:28:41.328925",
     "status": "completed"
    },
    "tags": []
   },
   "source": [
    "## Text Cleaning"
   ]
  },
  {
   "cell_type": "markdown",
   "id": "4d1d9898",
   "metadata": {
    "id": "Alhv2Fwt9S6j",
    "papermill": {
     "duration": 0.021972,
     "end_time": "2023-12-30T14:28:41.395565",
     "exception": false,
     "start_time": "2023-12-30T14:28:41.373593",
     "status": "completed"
    },
    "tags": []
   },
   "source": [
    "Remove urls from tweets with regex. (Use pattern `r'https?://\\S+|www\\.\\S+'`) "
   ]
  },
  {
   "cell_type": "code",
   "execution_count": 11,
   "id": "cfdd88d3",
   "metadata": {
    "execution": {
     "iopub.execute_input": "2023-12-30T14:28:41.443597Z",
     "iopub.status.busy": "2023-12-30T14:28:41.443180Z",
     "iopub.status.idle": "2023-12-30T14:28:41.779687Z",
     "shell.execute_reply": "2023-12-30T14:28:41.778205Z"
    },
    "id": "cquK2uDx9tjw",
    "papermill": {
     "duration": 0.364266,
     "end_time": "2023-12-30T14:28:41.782789",
     "exception": false,
     "start_time": "2023-12-30T14:28:41.418523",
     "status": "completed"
    },
    "tags": []
   },
   "outputs": [
    {
     "data": {
      "text/html": [
       "<div>\n",
       "<style scoped>\n",
       "    .dataframe tbody tr th:only-of-type {\n",
       "        vertical-align: middle;\n",
       "    }\n",
       "\n",
       "    .dataframe tbody tr th {\n",
       "        vertical-align: top;\n",
       "    }\n",
       "\n",
       "    .dataframe thead th {\n",
       "        text-align: right;\n",
       "    }\n",
       "</style>\n",
       "<table border=\"1\" class=\"dataframe\">\n",
       "  <thead>\n",
       "    <tr style=\"text-align: right;\">\n",
       "      <th></th>\n",
       "      <th>OriginalTweet</th>\n",
       "      <th>Sentiment</th>\n",
       "    </tr>\n",
       "  </thead>\n",
       "  <tbody>\n",
       "    <tr>\n",
       "      <th>0</th>\n",
       "      <td>@MeNyrbie @Phil_Gahan @Chrisitv  and  and</td>\n",
       "      <td>Neutral</td>\n",
       "    </tr>\n",
       "    <tr>\n",
       "      <th>1</th>\n",
       "      <td>advice Talk to your neighbours family to excha...</td>\n",
       "      <td>Positive</td>\n",
       "    </tr>\n",
       "    <tr>\n",
       "      <th>2</th>\n",
       "      <td>Coronavirus Australia: Woolworths to give elde...</td>\n",
       "      <td>Positive</td>\n",
       "    </tr>\n",
       "    <tr>\n",
       "      <th>3</th>\n",
       "      <td>My food stock is not the only one which is emp...</td>\n",
       "      <td>Positive</td>\n",
       "    </tr>\n",
       "    <tr>\n",
       "      <th>4</th>\n",
       "      <td>Me, ready to go at supermarket during the #COV...</td>\n",
       "      <td>Negative</td>\n",
       "    </tr>\n",
       "  </tbody>\n",
       "</table>\n",
       "</div>"
      ],
      "text/plain": [
       "                                       OriginalTweet Sentiment\n",
       "0         @MeNyrbie @Phil_Gahan @Chrisitv  and  and    Neutral\n",
       "1  advice Talk to your neighbours family to excha...  Positive\n",
       "2  Coronavirus Australia: Woolworths to give elde...  Positive\n",
       "3  My food stock is not the only one which is emp...  Positive\n",
       "4  Me, ready to go at supermarket during the #COV...  Negative"
      ]
     },
     "execution_count": 11,
     "metadata": {},
     "output_type": "execute_result"
    }
   ],
   "source": [
    "clean_url = lambda tweet: re.sub(r'https?://\\S+|www\\.\\S+', '', tweet)\n",
    "cleaned_data['OriginalTweet'] = cleaned_data['OriginalTweet'].apply(clean_url)\n",
    "cleaned_data.head()"
   ]
  },
  {
   "cell_type": "markdown",
   "id": "ccbd1435",
   "metadata": {
    "id": "7T7Ge-Sj9txO",
    "papermill": {
     "duration": 0.022892,
     "end_time": "2023-12-30T14:28:41.829194",
     "exception": false,
     "start_time": "2023-12-30T14:28:41.806302",
     "status": "completed"
    },
    "tags": []
   },
   "source": [
    "Remove everything except alphabetical and numerical characters. (Use pattern `[^a-zA-Z0-9]`) "
   ]
  },
  {
   "cell_type": "code",
   "execution_count": 12,
   "id": "8522f8f1",
   "metadata": {
    "execution": {
     "iopub.execute_input": "2023-12-30T14:28:41.878411Z",
     "iopub.status.busy": "2023-12-30T14:28:41.877532Z",
     "iopub.status.idle": "2023-12-30T14:28:42.711265Z",
     "shell.execute_reply": "2023-12-30T14:28:42.707781Z"
    },
    "id": "JCVfqzuy-Ecb",
    "papermill": {
     "duration": 0.863573,
     "end_time": "2023-12-30T14:28:42.716124",
     "exception": false,
     "start_time": "2023-12-30T14:28:41.852551",
     "status": "completed"
    },
    "tags": []
   },
   "outputs": [
    {
     "data": {
      "text/html": [
       "<div>\n",
       "<style scoped>\n",
       "    .dataframe tbody tr th:only-of-type {\n",
       "        vertical-align: middle;\n",
       "    }\n",
       "\n",
       "    .dataframe tbody tr th {\n",
       "        vertical-align: top;\n",
       "    }\n",
       "\n",
       "    .dataframe thead th {\n",
       "        text-align: right;\n",
       "    }\n",
       "</style>\n",
       "<table border=\"1\" class=\"dataframe\">\n",
       "  <thead>\n",
       "    <tr style=\"text-align: right;\">\n",
       "      <th></th>\n",
       "      <th>OriginalTweet</th>\n",
       "      <th>Sentiment</th>\n",
       "    </tr>\n",
       "  </thead>\n",
       "  <tbody>\n",
       "    <tr>\n",
       "      <th>0</th>\n",
       "      <td>MeNyrbie  Phil Gahan  Chrisitv  and  and</td>\n",
       "      <td>Neutral</td>\n",
       "    </tr>\n",
       "    <tr>\n",
       "      <th>1</th>\n",
       "      <td>advice Talk to your neighbours family to excha...</td>\n",
       "      <td>Positive</td>\n",
       "    </tr>\n",
       "    <tr>\n",
       "      <th>2</th>\n",
       "      <td>Coronavirus Australia  Woolworths to give elde...</td>\n",
       "      <td>Positive</td>\n",
       "    </tr>\n",
       "    <tr>\n",
       "      <th>3</th>\n",
       "      <td>My food stock is not the only one which is emp...</td>\n",
       "      <td>Positive</td>\n",
       "    </tr>\n",
       "    <tr>\n",
       "      <th>4</th>\n",
       "      <td>Me  ready to go at supermarket during the  COV...</td>\n",
       "      <td>Negative</td>\n",
       "    </tr>\n",
       "  </tbody>\n",
       "</table>\n",
       "</div>"
      ],
      "text/plain": [
       "                                       OriginalTweet Sentiment\n",
       "0          MeNyrbie  Phil Gahan  Chrisitv  and  and    Neutral\n",
       "1  advice Talk to your neighbours family to excha...  Positive\n",
       "2  Coronavirus Australia  Woolworths to give elde...  Positive\n",
       "3  My food stock is not the only one which is emp...  Positive\n",
       "4  Me  ready to go at supermarket during the  COV...  Negative"
      ]
     },
     "execution_count": 12,
     "metadata": {},
     "output_type": "execute_result"
    }
   ],
   "source": [
    "clean_everything = lambda tweet: re.sub(r'[^a-zA-Z0-9]', ' ', tweet)\n",
    "cleaned_data['OriginalTweet'] = cleaned_data['OriginalTweet'].apply(clean_everything)\n",
    "cleaned_data.head()"
   ]
  },
  {
   "cell_type": "markdown",
   "id": "6ee31730",
   "metadata": {
    "id": "ALGv_Gz9-FCT",
    "papermill": {
     "duration": 0.028972,
     "end_time": "2023-12-30T14:28:42.778957",
     "exception": false,
     "start_time": "2023-12-30T14:28:42.749985",
     "status": "completed"
    },
    "tags": []
   },
   "source": [
    "Lower all letters. Then use `nltk` and tokenize tweets. Then replace each word with its root and remove the stopwords. "
   ]
  },
  {
   "cell_type": "code",
   "execution_count": 13,
   "id": "c1d9d947",
   "metadata": {
    "execution": {
     "iopub.execute_input": "2023-12-30T14:28:42.829312Z",
     "iopub.status.busy": "2023-12-30T14:28:42.828079Z",
     "iopub.status.idle": "2023-12-30T14:29:29.750628Z",
     "shell.execute_reply": "2023-12-30T14:29:29.749028Z"
    },
    "papermill": {
     "duration": 46.974549,
     "end_time": "2023-12-30T14:29:29.777431",
     "exception": false,
     "start_time": "2023-12-30T14:28:42.802882",
     "status": "completed"
    },
    "tags": []
   },
   "outputs": [
    {
     "data": {
      "text/html": [
       "<div>\n",
       "<style scoped>\n",
       "    .dataframe tbody tr th:only-of-type {\n",
       "        vertical-align: middle;\n",
       "    }\n",
       "\n",
       "    .dataframe tbody tr th {\n",
       "        vertical-align: top;\n",
       "    }\n",
       "\n",
       "    .dataframe thead th {\n",
       "        text-align: right;\n",
       "    }\n",
       "</style>\n",
       "<table border=\"1\" class=\"dataframe\">\n",
       "  <thead>\n",
       "    <tr style=\"text-align: right;\">\n",
       "      <th></th>\n",
       "      <th>OriginalTweet</th>\n",
       "      <th>Sentiment</th>\n",
       "    </tr>\n",
       "  </thead>\n",
       "  <tbody>\n",
       "    <tr>\n",
       "      <th>0</th>\n",
       "      <td>menyrbi phil gahan chrisitv</td>\n",
       "      <td>Neutral</td>\n",
       "    </tr>\n",
       "    <tr>\n",
       "      <th>1</th>\n",
       "      <td>advic talk neighbour famili exchang phone numb...</td>\n",
       "      <td>Positive</td>\n",
       "    </tr>\n",
       "    <tr>\n",
       "      <th>2</th>\n",
       "      <td>coronaviru australia woolworth give elderli di...</td>\n",
       "      <td>Positive</td>\n",
       "    </tr>\n",
       "    <tr>\n",
       "      <th>3</th>\n",
       "      <td>food stock one empti pleas panic enough food e...</td>\n",
       "      <td>Positive</td>\n",
       "    </tr>\n",
       "    <tr>\n",
       "      <th>4</th>\n",
       "      <td>readi go supermarket covid19 outbreak paranoid...</td>\n",
       "      <td>Negative</td>\n",
       "    </tr>\n",
       "  </tbody>\n",
       "</table>\n",
       "</div>"
      ],
      "text/plain": [
       "                                       OriginalTweet Sentiment\n",
       "0                        menyrbi phil gahan chrisitv   Neutral\n",
       "1  advic talk neighbour famili exchang phone numb...  Positive\n",
       "2  coronaviru australia woolworth give elderli di...  Positive\n",
       "3  food stock one empti pleas panic enough food e...  Positive\n",
       "4  readi go supermarket covid19 outbreak paranoid...  Negative"
      ]
     },
     "execution_count": 13,
     "metadata": {},
     "output_type": "execute_result"
    }
   ],
   "source": [
    "from nltk.stem import PorterStemmer\n",
    "\n",
    "\n",
    "stopwords_set = set(stopwords.words(\"english\"))\n",
    "\n",
    "def process_tweet(tweet):\n",
    "    porter_stemmer = PorterStemmer()\n",
    "    return \" \".join([porter_stemmer.stem(word.lower()) for word in word_tokenize(tweet) if word.lower() not in stopwords_set])\n",
    "\n",
    "cleaned_data['OriginalTweet'] = cleaned_data['OriginalTweet'].apply(process_tweet)\n",
    "cleaned_data.head()"
   ]
  },
  {
   "cell_type": "markdown",
   "id": "f47c835f",
   "metadata": {
    "id": "L4Irp9qf-vYA",
    "papermill": {
     "duration": 0.023992,
     "end_time": "2023-12-30T14:29:29.826421",
     "exception": false,
     "start_time": "2023-12-30T14:29:29.802429",
     "status": "completed"
    },
    "tags": []
   },
   "source": [
    "## Feature Generation"
   ]
  },
  {
   "cell_type": "markdown",
   "id": "a8f02aa8",
   "metadata": {
    "id": "oXH92GKh-zBt",
    "papermill": {
     "duration": 0.023666,
     "end_time": "2023-12-30T14:29:29.873881",
     "exception": false,
     "start_time": "2023-12-30T14:29:29.850215",
     "status": "completed"
    },
    "tags": []
   },
   "source": [
    "Use `CountVectorizer` class (belonging to `sklearn`) construct a feature vector from each tweet."
   ]
  },
  {
   "cell_type": "code",
   "execution_count": 14,
   "id": "45a5d23a",
   "metadata": {
    "execution": {
     "iopub.execute_input": "2023-12-30T14:29:29.923635Z",
     "iopub.status.busy": "2023-12-30T14:29:29.923174Z",
     "iopub.status.idle": "2023-12-30T14:29:31.274110Z",
     "shell.execute_reply": "2023-12-30T14:29:31.272945Z"
    },
    "id": "5o4jfmM2_Stz",
    "outputId": "f39cd87f-1a10-4384-82c6-eabc1968ba21",
    "papermill": {
     "duration": 1.379276,
     "end_time": "2023-12-30T14:29:31.277151",
     "exception": false,
     "start_time": "2023-12-30T14:29:29.897875",
     "status": "completed"
    },
    "tags": []
   },
   "outputs": [
    {
     "data": {
      "text/html": [
       "<div>\n",
       "<style scoped>\n",
       "    .dataframe tbody tr th:only-of-type {\n",
       "        vertical-align: middle;\n",
       "    }\n",
       "\n",
       "    .dataframe tbody tr th {\n",
       "        vertical-align: top;\n",
       "    }\n",
       "\n",
       "    .dataframe thead th {\n",
       "        text-align: right;\n",
       "    }\n",
       "</style>\n",
       "<table border=\"1\" class=\"dataframe\">\n",
       "  <thead>\n",
       "    <tr style=\"text-align: right;\">\n",
       "      <th></th>\n",
       "      <th>19</th>\n",
       "      <th>amp</th>\n",
       "      <th>buy</th>\n",
       "      <th>consum</th>\n",
       "      <th>coronaviru</th>\n",
       "      <th>covid</th>\n",
       "      <th>covid19</th>\n",
       "      <th>food</th>\n",
       "      <th>get</th>\n",
       "      <th>go</th>\n",
       "      <th>...</th>\n",
       "      <th>price</th>\n",
       "      <th>sanit</th>\n",
       "      <th>shop</th>\n",
       "      <th>stock</th>\n",
       "      <th>store</th>\n",
       "      <th>supermarket</th>\n",
       "      <th>time</th>\n",
       "      <th>us</th>\n",
       "      <th>work</th>\n",
       "      <th>worker</th>\n",
       "    </tr>\n",
       "  </thead>\n",
       "  <tbody>\n",
       "    <tr>\n",
       "      <th>0</th>\n",
       "      <td>0</td>\n",
       "      <td>0</td>\n",
       "      <td>0</td>\n",
       "      <td>0</td>\n",
       "      <td>0</td>\n",
       "      <td>0</td>\n",
       "      <td>0</td>\n",
       "      <td>0</td>\n",
       "      <td>0</td>\n",
       "      <td>0</td>\n",
       "      <td>...</td>\n",
       "      <td>0</td>\n",
       "      <td>0</td>\n",
       "      <td>0</td>\n",
       "      <td>0</td>\n",
       "      <td>0</td>\n",
       "      <td>0</td>\n",
       "      <td>0</td>\n",
       "      <td>0</td>\n",
       "      <td>0</td>\n",
       "      <td>0</td>\n",
       "    </tr>\n",
       "    <tr>\n",
       "      <th>1</th>\n",
       "      <td>0</td>\n",
       "      <td>0</td>\n",
       "      <td>0</td>\n",
       "      <td>0</td>\n",
       "      <td>0</td>\n",
       "      <td>0</td>\n",
       "      <td>0</td>\n",
       "      <td>0</td>\n",
       "      <td>0</td>\n",
       "      <td>0</td>\n",
       "      <td>...</td>\n",
       "      <td>0</td>\n",
       "      <td>0</td>\n",
       "      <td>1</td>\n",
       "      <td>0</td>\n",
       "      <td>0</td>\n",
       "      <td>0</td>\n",
       "      <td>0</td>\n",
       "      <td>0</td>\n",
       "      <td>0</td>\n",
       "      <td>0</td>\n",
       "    </tr>\n",
       "    <tr>\n",
       "      <th>2</th>\n",
       "      <td>1</td>\n",
       "      <td>0</td>\n",
       "      <td>0</td>\n",
       "      <td>0</td>\n",
       "      <td>1</td>\n",
       "      <td>1</td>\n",
       "      <td>0</td>\n",
       "      <td>0</td>\n",
       "      <td>0</td>\n",
       "      <td>0</td>\n",
       "      <td>...</td>\n",
       "      <td>0</td>\n",
       "      <td>0</td>\n",
       "      <td>1</td>\n",
       "      <td>0</td>\n",
       "      <td>0</td>\n",
       "      <td>0</td>\n",
       "      <td>0</td>\n",
       "      <td>0</td>\n",
       "      <td>0</td>\n",
       "      <td>0</td>\n",
       "    </tr>\n",
       "    <tr>\n",
       "      <th>3</th>\n",
       "      <td>1</td>\n",
       "      <td>0</td>\n",
       "      <td>0</td>\n",
       "      <td>0</td>\n",
       "      <td>1</td>\n",
       "      <td>1</td>\n",
       "      <td>1</td>\n",
       "      <td>2</td>\n",
       "      <td>0</td>\n",
       "      <td>0</td>\n",
       "      <td>...</td>\n",
       "      <td>0</td>\n",
       "      <td>0</td>\n",
       "      <td>0</td>\n",
       "      <td>1</td>\n",
       "      <td>0</td>\n",
       "      <td>0</td>\n",
       "      <td>0</td>\n",
       "      <td>0</td>\n",
       "      <td>0</td>\n",
       "      <td>0</td>\n",
       "    </tr>\n",
       "    <tr>\n",
       "      <th>4</th>\n",
       "      <td>0</td>\n",
       "      <td>0</td>\n",
       "      <td>0</td>\n",
       "      <td>0</td>\n",
       "      <td>1</td>\n",
       "      <td>0</td>\n",
       "      <td>1</td>\n",
       "      <td>1</td>\n",
       "      <td>0</td>\n",
       "      <td>1</td>\n",
       "      <td>...</td>\n",
       "      <td>0</td>\n",
       "      <td>0</td>\n",
       "      <td>0</td>\n",
       "      <td>1</td>\n",
       "      <td>0</td>\n",
       "      <td>1</td>\n",
       "      <td>0</td>\n",
       "      <td>0</td>\n",
       "      <td>0</td>\n",
       "      <td>0</td>\n",
       "    </tr>\n",
       "  </tbody>\n",
       "</table>\n",
       "<p>5 rows × 30 columns</p>\n",
       "</div>"
      ],
      "text/plain": [
       "   19  amp  buy  consum  coronaviru  covid  covid19  food  get  go  ...  \\\n",
       "0   0    0    0       0           0      0        0     0    0   0  ...   \n",
       "1   0    0    0       0           0      0        0     0    0   0  ...   \n",
       "2   1    0    0       0           1      1        0     0    0   0  ...   \n",
       "3   1    0    0       0           1      1        1     2    0   0  ...   \n",
       "4   0    0    0       0           1      0        1     1    0   1  ...   \n",
       "\n",
       "   price  sanit  shop  stock  store  supermarket  time  us  work  worker  \n",
       "0      0      0     0      0      0            0     0   0     0       0  \n",
       "1      0      0     1      0      0            0     0   0     0       0  \n",
       "2      0      0     1      0      0            0     0   0     0       0  \n",
       "3      0      0     0      1      0            0     0   0     0       0  \n",
       "4      0      0     0      1      0            1     0   0     0       0  \n",
       "\n",
       "[5 rows x 30 columns]"
      ]
     },
     "execution_count": 14,
     "metadata": {},
     "output_type": "execute_result"
    }
   ],
   "source": [
    "from sklearn.feature_extraction.text import CountVectorizer\n",
    "\n",
    "cleaned_data.reset_index(drop=True, inplace=True)\n",
    "\n",
    "vectorizer = CountVectorizer(max_features=30)\n",
    "feature_vectors = vectorizer.fit_transform(cleaned_data['OriginalTweet'].tolist())\n",
    "feature_vectors_df = pd.DataFrame(feature_vectors.toarray(), columns=vectorizer.get_feature_names_out())\n",
    "feature_vectors_df.head()\n",
    "\n"
   ]
  },
  {
   "cell_type": "markdown",
   "id": "913dee79",
   "metadata": {
    "id": "zKjJrM_rADgy",
    "papermill": {
     "duration": 0.024406,
     "end_time": "2023-12-30T14:29:31.325589",
     "exception": false,
     "start_time": "2023-12-30T14:29:31.301183",
     "status": "completed"
    },
    "tags": []
   },
   "source": [
    "# P3: Modeling"
   ]
  },
  {
   "cell_type": "markdown",
   "id": "b6464834",
   "metadata": {
    "papermill": {
     "duration": 0.023544,
     "end_time": "2023-12-30T14:29:31.372942",
     "exception": false,
     "start_time": "2023-12-30T14:29:31.349398",
     "status": "completed"
    },
    "tags": []
   },
   "source": [
    "Convert the dataset to a dataframe (or some `numpy` arrays) and split it into train and test sets."
   ]
  },
  {
   "cell_type": "code",
   "execution_count": 15,
   "id": "394fc09a",
   "metadata": {
    "execution": {
     "iopub.execute_input": "2023-12-30T14:29:31.423734Z",
     "iopub.status.busy": "2023-12-30T14:29:31.423000Z",
     "iopub.status.idle": "2023-12-30T14:29:31.456176Z",
     "shell.execute_reply": "2023-12-30T14:29:31.454958Z"
    },
    "id": "eE99EEE1db-v",
    "papermill": {
     "duration": 0.062007,
     "end_time": "2023-12-30T14:29:31.458898",
     "exception": false,
     "start_time": "2023-12-30T14:29:31.396891",
     "status": "completed"
    },
    "tags": []
   },
   "outputs": [
    {
     "name": "stdout",
     "output_type": "stream",
     "text": [
      "[1 1 1 ... 0 0 0]\n"
     ]
    }
   ],
   "source": [
    "from sklearn.model_selection import train_test_split\n",
    "from sklearn.preprocessing import LabelEncoder\n",
    "import numpy as np\n",
    "\n",
    "y = cleaned_data['Sentiment']\n",
    "X_train, X_test, y_train, y_test = train_test_split(feature_vectors_df, y, test_size=0.5, random_state=42)\n",
    "\n",
    "le = LabelEncoder()\n",
    "y_train = le.fit_transform(y_train)\n",
    "y_test = le.fit_transform(y_test)\n",
    "y_train = np.where(y_train == 2, 1, 0)\n",
    "y_test = np.where(y_test == 2, 1, 0)\n",
    "print(y_train)"
   ]
  },
  {
   "cell_type": "markdown",
   "id": "f1ed1ba4",
   "metadata": {
    "papermill": {
     "duration": 0.023967,
     "end_time": "2023-12-30T14:29:31.507090",
     "exception": false,
     "start_time": "2023-12-30T14:29:31.483123",
     "status": "completed"
    },
    "tags": []
   },
   "source": [
    "Use the `SVC` class (belonging to `sklearn`) to train a SVM classifier. "
   ]
  },
  {
   "cell_type": "code",
   "execution_count": 16,
   "id": "f9654b6d",
   "metadata": {
    "execution": {
     "iopub.execute_input": "2023-12-30T14:29:31.557635Z",
     "iopub.status.busy": "2023-12-30T14:29:31.557173Z",
     "iopub.status.idle": "2023-12-30T14:29:50.374129Z",
     "shell.execute_reply": "2023-12-30T14:29:50.372757Z"
    },
    "id": "BN6alLt8eDI8",
    "outputId": "3da5a95c-a2e8-445b-aafb-df0ee46ce444",
    "papermill": {
     "duration": 18.846796,
     "end_time": "2023-12-30T14:29:50.377513",
     "exception": false,
     "start_time": "2023-12-30T14:29:31.530717",
     "status": "completed"
    },
    "tags": []
   },
   "outputs": [],
   "source": [
    "from sklearn.svm import SVC\n",
    "\n",
    "sklearn_svm = SVC(kernel=\"linear\")\n",
    "sklearn_svm = sklearn_svm.fit(X_train, y_train)"
   ]
  },
  {
   "cell_type": "markdown",
   "id": "84517d7c",
   "metadata": {
    "papermill": {
     "duration": 0.023537,
     "end_time": "2023-12-30T14:29:50.425315",
     "exception": false,
     "start_time": "2023-12-30T14:29:50.401778",
     "status": "completed"
    },
    "tags": []
   },
   "source": [
    "Complete the definition of the following class to implement a SVM classifier capable of separating only the positive and negative classes. \n"
   ]
  },
  {
   "cell_type": "code",
   "execution_count": 17,
   "id": "d198cec3",
   "metadata": {
    "execution": {
     "iopub.execute_input": "2023-12-30T14:29:50.475670Z",
     "iopub.status.busy": "2023-12-30T14:29:50.475235Z",
     "iopub.status.idle": "2023-12-30T14:29:50.488453Z",
     "shell.execute_reply": "2023-12-30T14:29:50.487299Z"
    },
    "papermill": {
     "duration": 0.042117,
     "end_time": "2023-12-30T14:29:50.491321",
     "exception": false,
     "start_time": "2023-12-30T14:29:50.449204",
     "status": "completed"
    },
    "tags": []
   },
   "outputs": [],
   "source": [
    "class SVM:\n",
    "    def __init__(self, learning_rate=0.001, lambda_param=0.01, n_iters=1000):\n",
    "        self.lr = learning_rate\n",
    "        self.lambda_param = lambda_param\n",
    "        self.n_iters = n_iters\n",
    "        self.w = None\n",
    "        self.b = None\n",
    "\n",
    "    def fit(self, X, y):\n",
    "        X = np.asarray(X, dtype=float)\n",
    "        y = np.asarray(y, dtype=float)\n",
    "\n",
    "        y_ = np.where(y <= 0, -1, 1)\n",
    "\n",
    "        n_samples, n_features = X.shape\n",
    "\n",
    "        y_ = np.where(y <= 0, -1, 1)\n",
    "\n",
    "        self.w = np.zeros(n_features)\n",
    "        self.b = 0\n",
    "\n",
    "        for _ in range(self.n_iters):\n",
    "            for idx, x_i in enumerate(X):\n",
    "                condition = y_[idx] * (np.dot(x_i, self.w) - self.b) >= 1\n",
    "                if condition:\n",
    "                    self.w -= self.lr * (2 * self.lambda_param * self.w)\n",
    "                else:\n",
    "                    self.w -= self.lr * (2 * self.lambda_param * self.w - np.dot(x_i, y_[idx]))\n",
    "                    self.b -= self.lr * y_[idx]\n",
    "\n",
    "    def predict(self, X):\n",
    "        X = np.asarray(X, dtype=float)\n",
    "        linear_output = np.dot(X, self.w) - self.b\n",
    "        return np.where(linear_output >= 0, 1, 0)\n",
    "    "
   ]
  },
  {
   "cell_type": "markdown",
   "id": "719e4508",
   "metadata": {
    "papermill": {
     "duration": 0.02438,
     "end_time": "2023-12-30T14:29:50.539670",
     "exception": false,
     "start_time": "2023-12-30T14:29:50.515290",
     "status": "completed"
    },
    "tags": []
   },
   "source": [
    "Train the binary SVM classifier using the class you have implemented. "
   ]
  },
  {
   "cell_type": "code",
   "execution_count": 18,
   "id": "58a82196",
   "metadata": {
    "execution": {
     "iopub.execute_input": "2023-12-30T14:29:50.590278Z",
     "iopub.status.busy": "2023-12-30T14:29:50.589794Z",
     "iopub.status.idle": "2023-12-30T14:36:11.020264Z",
     "shell.execute_reply": "2023-12-30T14:36:11.018397Z"
    },
    "papermill": {
     "duration": 380.460157,
     "end_time": "2023-12-30T14:36:11.023957",
     "exception": false,
     "start_time": "2023-12-30T14:29:50.563800",
     "status": "completed"
    },
    "tags": []
   },
   "outputs": [],
   "source": [
    "my_svm = SVM()\n",
    "my_svm.fit(X_train, y_train)"
   ]
  },
  {
   "cell_type": "markdown",
   "id": "a7345793",
   "metadata": {
    "papermill": {
     "duration": 0.024148,
     "end_time": "2023-12-30T14:36:11.074639",
     "exception": false,
     "start_time": "2023-12-30T14:36:11.050491",
     "status": "completed"
    },
    "tags": []
   },
   "source": [
    "# P4: Evaluation"
   ]
  },
  {
   "cell_type": "markdown",
   "id": "7d05cc43",
   "metadata": {
    "papermill": {
     "duration": 0.024516,
     "end_time": "2023-12-30T14:36:11.125166",
     "exception": false,
     "start_time": "2023-12-30T14:36:11.100650",
     "status": "completed"
    },
    "tags": []
   },
   "source": [
    "Using the model you trained using `sklearn`, predict the labels of the test set. "
   ]
  },
  {
   "cell_type": "code",
   "execution_count": 19,
   "id": "6aff2124",
   "metadata": {
    "execution": {
     "iopub.execute_input": "2023-12-30T14:36:11.180807Z",
     "iopub.status.busy": "2023-12-30T14:36:11.179291Z",
     "iopub.status.idle": "2023-12-30T14:36:23.310571Z",
     "shell.execute_reply": "2023-12-30T14:36:23.309330Z"
    },
    "id": "luiwzknleWz4",
    "papermill": {
     "duration": 12.162321,
     "end_time": "2023-12-30T14:36:23.313625",
     "exception": false,
     "start_time": "2023-12-30T14:36:11.151304",
     "status": "completed"
    },
    "tags": []
   },
   "outputs": [
    {
     "name": "stdout",
     "output_type": "stream",
     "text": [
      "Sklearn Accuracy:  0.6401185674716945\n"
     ]
    }
   ],
   "source": [
    "from sklearn.metrics import accuracy_score, confusion_matrix\n",
    "\n",
    "sklearn_pred = sklearn_svm.predict(X_test)\n",
    "sklearn_acc = accuracy_score(y_test, sklearn_pred)\n",
    "print(\"Sklearn Accuracy: \",sklearn_acc)"
   ]
  },
  {
   "cell_type": "markdown",
   "id": "384b8835",
   "metadata": {
    "papermill": {
     "duration": 0.024151,
     "end_time": "2023-12-30T14:36:23.362400",
     "exception": false,
     "start_time": "2023-12-30T14:36:23.338249",
     "status": "completed"
    },
    "tags": []
   },
   "source": [
    "Using the model you trained from scratch, predict the labels of the test set."
   ]
  },
  {
   "cell_type": "code",
   "execution_count": 20,
   "id": "18801200",
   "metadata": {
    "execution": {
     "iopub.execute_input": "2023-12-30T14:36:23.414068Z",
     "iopub.status.busy": "2023-12-30T14:36:23.413536Z",
     "iopub.status.idle": "2023-12-30T14:36:23.431078Z",
     "shell.execute_reply": "2023-12-30T14:36:23.429357Z"
    },
    "id": "H7bcsjtT8oYU",
    "papermill": {
     "duration": 0.048532,
     "end_time": "2023-12-30T14:36:23.435644",
     "exception": false,
     "start_time": "2023-12-30T14:36:23.387112",
     "status": "completed"
    },
    "tags": []
   },
   "outputs": [
    {
     "name": "stdout",
     "output_type": "stream",
     "text": [
      "My SVM  Accuracy:  0.6309344477379853\n"
     ]
    }
   ],
   "source": [
    "my_svm_pred = my_svm.predict(X_test)\n",
    "my_svm_acc = accuracy_score(y_test, my_svm_pred)\n",
    "print(\"My SVM  Accuracy: \",my_svm_acc)"
   ]
  },
  {
   "cell_type": "markdown",
   "id": "6088bc19",
   "metadata": {
    "papermill": {
     "duration": 0.051093,
     "end_time": "2023-12-30T14:36:23.538071",
     "exception": false,
     "start_time": "2023-12-30T14:36:23.486978",
     "status": "completed"
    },
    "tags": []
   },
   "source": [
    "Plot the normalized confusion matrix of the predictions for each model."
   ]
  },
  {
   "cell_type": "code",
   "execution_count": 21,
   "id": "11c689ae",
   "metadata": {
    "execution": {
     "iopub.execute_input": "2023-12-30T14:36:23.590675Z",
     "iopub.status.busy": "2023-12-30T14:36:23.590200Z",
     "iopub.status.idle": "2023-12-30T14:36:24.666558Z",
     "shell.execute_reply": "2023-12-30T14:36:24.665506Z"
    },
    "id": "G0yjooWr_JZ0",
    "papermill": {
     "duration": 1.104796,
     "end_time": "2023-12-30T14:36:24.669023",
     "exception": false,
     "start_time": "2023-12-30T14:36:23.564227",
     "status": "completed"
    },
    "tags": []
   },
   "outputs": [
    {
     "data": {
      "image/png": "[encoded data removed]",
      "text/plain": [
       "<Figure size 800x800 with 2 Axes>"
      ]
     },
     "metadata": {},
     "output_type": "display_data"
    },
    {
     "data": {
      "image/png": "[encoded data removed]",
      "text/plain": [
       "<Figure size 800x800 with 2 Axes>"
      ]
     },
     "metadata": {},
     "output_type": "display_data"
    }
   ],
   "source": [
    "import seaborn as sns\n",
    "import matplotlib.pyplot as plt\n",
    "from sklearn.metrics import confusion_matrix\n",
    "\n",
    "def plot_confusion_matrix(cm, title, color_map):\n",
    "    plt.figure(figsize=(8, 8))\n",
    "    sns.heatmap(cm, annot=True, fmt=\".2f\", cmap=color_map, xticklabels=[0, 1], yticklabels=[0, 1])\n",
    "    plt.title(title)\n",
    "    plt.xlabel('Predicted')\n",
    "    plt.ylabel('Actual')\n",
    "    plt.show()\n",
    "\n",
    "    \n",
    "\n",
    "sklearn_cm = confusion_matrix(y_test, sklearn_pred, normalize='true')\n",
    "plot_confusion_matrix(sklearn_cm, 'Sklearn_SVM CM', \"Greens\")\n",
    "\n",
    "my_svm_cm = confusion_matrix(y_test, my_svm_pred, normalize='true')\n",
    "plot_confusion_matrix(my_svm_cm, 'My_SVM CM', \"Purples\")\n"
   ]
  }
 ],
 "metadata": {
  "kaggle": {
   "accelerator": "none",
   "dataSources": [
    {
     "datasetId": 3984989,
     "sourceId": 6939129,
     "sourceType": "datasetVersion"
    }
   ],
   "dockerImageVersionId": 30587,
   "isGpuEnabled": false,
   "isInternetEnabled": true,
   "language": "python",
   "sourceType": "notebook"
  },
  "kernelspec": {
   "display_name": "Python 3",
   "language": "python",
   "name": "python3"
  },
  "language_info": {
   "codemirror_mode": {
    "name": "ipython",
    "version": 3
   },
   "file_extension": ".py",
   "mimetype": "text/x-python",
   "name": "python",
   "nbconvert_exporter": "python",
   "pygments_lexer": "ipython3",
   "version": "3.10.12"
  },
  "papermill": {
   "default_parameters": {},
   "duration": 510.542773,
   "end_time": "2023-12-30T14:36:25.871370",
   "environment_variables": {},
   "exception": null,
   "input_path": "__notebook__.ipynb",
   "output_path": "__notebook__.ipynb",
   "parameters": {},
   "start_time": "2023-12-30T14:27:55.328597",
   "version": "2.4.0"
  }
 },
 "nbformat": 4,
 "nbformat_minor": 5
}
